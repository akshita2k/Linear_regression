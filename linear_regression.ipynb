{
  "nbformat": 4,
  "nbformat_minor": 0,
  "metadata": {
    "colab": {
      "name": "linear regression.ipynb",
      "provenance": [],
      "collapsed_sections": [],
      "authorship_tag": "ABX9TyMcbC91sYpFqWuGXGXjWodg",
      "include_colab_link": true
    },
    "kernelspec": {
      "name": "python3",
      "display_name": "Python 3"
    }
  },
  "cells": [
    {
      "cell_type": "markdown",
      "metadata": {
        "id": "view-in-github",
        "colab_type": "text"
      },
      "source": [
        "<a href=\"https://colab.research.google.com/github/akshita2k/Linear_regression/blob/master/linear_regression.ipynb\" target=\"_parent\"><img src=\"https://colab.research.google.com/assets/colab-badge.svg\" alt=\"Open In Colab\"/></a>"
      ]
    },
    {
      "cell_type": "code",
      "metadata": {
        "id": "mbzsJHf8l7fj",
        "colab_type": "code",
        "colab": {}
      },
      "source": [
        "import numpy as np\n",
        "import matplotlib.pyplot as plt\n",
        "import pandas as pd \n",
        "from sklearn.datasets import load_boston\n",
        "%matplotlib inline\n"
      ],
      "execution_count": 0,
      "outputs": []
    },
    {
      "cell_type": "code",
      "metadata": {
        "id": "9MykWdh9mtz9",
        "colab_type": "code",
        "colab": {}
      },
      "source": [
        "boston=load_boston()"
      ],
      "execution_count": 0,
      "outputs": []
    },
    {
      "cell_type": "code",
      "metadata": {
        "id": "NHDZ-85ImyWS",
        "colab_type": "code",
        "outputId": "2e517789-ad3e-4ec1-bce4-79902a79a218",
        "colab": {
          "base_uri": "https://localhost:8080/",
          "height": 944
        }
      },
      "source": [
        "print(boston.DESCR)"
      ],
      "execution_count": 0,
      "outputs": [
        {
          "output_type": "stream",
          "text": [
            ".. _boston_dataset:\n",
            "\n",
            "Boston house prices dataset\n",
            "---------------------------\n",
            "\n",
            "**Data Set Characteristics:**  \n",
            "\n",
            "    :Number of Instances: 506 \n",
            "\n",
            "    :Number of Attributes: 13 numeric/categorical predictive. Median Value (attribute 14) is usually the target.\n",
            "\n",
            "    :Attribute Information (in order):\n",
            "        - CRIM     per capita crime rate by town\n",
            "        - ZN       proportion of residential land zoned for lots over 25,000 sq.ft.\n",
            "        - INDUS    proportion of non-retail business acres per town\n",
            "        - CHAS     Charles River dummy variable (= 1 if tract bounds river; 0 otherwise)\n",
            "        - NOX      nitric oxides concentration (parts per 10 million)\n",
            "        - RM       average number of rooms per dwelling\n",
            "        - AGE      proportion of owner-occupied units built prior to 1940\n",
            "        - DIS      weighted distances to five Boston employment centres\n",
            "        - RAD      index of accessibility to radial highways\n",
            "        - TAX      full-value property-tax rate per $10,000\n",
            "        - PTRATIO  pupil-teacher ratio by town\n",
            "        - B        1000(Bk - 0.63)^2 where Bk is the proportion of blacks by town\n",
            "        - LSTAT    % lower status of the population\n",
            "        - MEDV     Median value of owner-occupied homes in $1000's\n",
            "\n",
            "    :Missing Attribute Values: None\n",
            "\n",
            "    :Creator: Harrison, D. and Rubinfeld, D.L.\n",
            "\n",
            "This is a copy of UCI ML housing dataset.\n",
            "https://archive.ics.uci.edu/ml/machine-learning-databases/housing/\n",
            "\n",
            "\n",
            "This dataset was taken from the StatLib library which is maintained at Carnegie Mellon University.\n",
            "\n",
            "The Boston house-price data of Harrison, D. and Rubinfeld, D.L. 'Hedonic\n",
            "prices and the demand for clean air', J. Environ. Economics & Management,\n",
            "vol.5, 81-102, 1978.   Used in Belsley, Kuh & Welsch, 'Regression diagnostics\n",
            "...', Wiley, 1980.   N.B. Various transformations are used in the table on\n",
            "pages 244-261 of the latter.\n",
            "\n",
            "The Boston house-price data has been used in many machine learning papers that address regression\n",
            "problems.   \n",
            "     \n",
            ".. topic:: References\n",
            "\n",
            "   - Belsley, Kuh & Welsch, 'Regression diagnostics: Identifying Influential Data and Sources of Collinearity', Wiley, 1980. 244-261.\n",
            "   - Quinlan,R. (1993). Combining Instance-Based and Model-Based Learning. In Proceedings on the Tenth International Conference of Machine Learning, 236-243, University of Massachusetts, Amherst. Morgan Kaufmann.\n",
            "\n"
          ],
          "name": "stdout"
        }
      ]
    },
    {
      "cell_type": "code",
      "metadata": {
        "id": "nV7HsHxsngt1",
        "colab_type": "code",
        "colab": {}
      },
      "source": [
        "features=pd.DataFrame(boston.data,columns=boston.feature_names)\n",
        "target=pd.DataFrame(boston.target, columns=['Target'])\n",
        "data=pd.concat([features,target],axis=1)"
      ],
      "execution_count": 0,
      "outputs": []
    },
    {
      "cell_type": "code",
      "metadata": {
        "id": "stBT-X12pKYR",
        "colab_type": "code",
        "outputId": "dc61f0e4-b9b7-43bd-f95b-bdd9e8ea289e",
        "colab": {
          "base_uri": "https://localhost:8080/",
          "height": 284
        }
      },
      "source": [
        "data2=data.corr('pearson')\n",
        "abs(data2.loc['Target']).sort_values(ascending=False)"
      ],
      "execution_count": 0,
      "outputs": [
        {
          "output_type": "execute_result",
          "data": {
            "text/plain": [
              "Target     1.000000\n",
              "LSTAT      0.737663\n",
              "RM         0.695360\n",
              "PTRATIO    0.507787\n",
              "INDUS      0.483725\n",
              "TAX        0.468536\n",
              "NOX        0.427321\n",
              "CRIM       0.388305\n",
              "RAD        0.381626\n",
              "AGE        0.376955\n",
              "ZN         0.360445\n",
              "B          0.333461\n",
              "DIS        0.249929\n",
              "CHAS       0.175260\n",
              "Name: Target, dtype: float64"
            ]
          },
          "metadata": {
            "tags": []
          },
          "execution_count": 5
        }
      ]
    },
    {
      "cell_type": "code",
      "metadata": {
        "id": "PGO8lrdFq25J",
        "colab_type": "code",
        "colab": {}
      },
      "source": [
        "X=data['LSTAT']\n",
        "Y=data['Target']"
      ],
      "execution_count": 0,
      "outputs": []
    },
    {
      "cell_type": "code",
      "metadata": {
        "id": "CdF8kNIwq_fp",
        "colab_type": "code",
        "colab": {}
      },
      "source": [
        "X=np.array(X/X.mean())\n",
        "Y=np.array(Y/Y.mean())"
      ],
      "execution_count": 0,
      "outputs": []
    },
    {
      "cell_type": "code",
      "metadata": {
        "id": "HWO2KvgnrSo_",
        "colab_type": "code",
        "colab": {}
      },
      "source": [
        "n=int(0.8*len(X))\n",
        "\n",
        "\n",
        "x_train=X[:n]\n",
        "y_train=Y[:n]\n",
        "x_test=X[n:]\n",
        "y_test=Y[n:]"
      ],
      "execution_count": 0,
      "outputs": []
    },
    {
      "cell_type": "code",
      "metadata": {
        "id": "5P5Opa42sJpr",
        "colab_type": "code",
        "outputId": "b3612003-1948-4aee-f944-96f6420e9895",
        "colab": {
          "base_uri": "https://localhost:8080/",
          "height": 283
        }
      },
      "source": [
        "plt.plot(x_train,y_train,'g.')"
      ],
      "execution_count": 0,
      "outputs": [
        {
          "output_type": "execute_result",
          "data": {
            "text/plain": [
              "[<matplotlib.lines.Line2D at 0x7f0e946525c0>]"
            ]
          },
          "metadata": {
            "tags": []
          },
          "execution_count": 9
        },
        {
          "output_type": "display_data",
          "data": {
            "image/png": "[encoded data removed]",
            "text/plain": [
              "<Figure size 432x288 with 1 Axes>"
            ]
          },
          "metadata": {
            "tags": []
          }
        }
      ]
    },
    {
      "cell_type": "code",
      "metadata": {
        "id": "l8BYeMj0tBYH",
        "colab_type": "code",
        "outputId": "8bcb10c0-538a-4db0-d4bf-24c1b64d7dd5",
        "colab": {
          "base_uri": "https://localhost:8080/",
          "height": 283
        }
      },
      "source": [
        "plt.plot(x_test,y_test,'b.')"
      ],
      "execution_count": 0,
      "outputs": [
        {
          "output_type": "execute_result",
          "data": {
            "text/plain": [
              "[<matplotlib.lines.Line2D at 0x7f7cc3969d30>]"
            ]
          },
          "metadata": {
            "tags": []
          },
          "execution_count": 69
        },
        {
          "output_type": "display_data",
          "data": {
            "image/png": "[encoded data removed]",
            "text/plain": [
              "<Figure size 432x288 with 1 Axes>"
            ]
          },
          "metadata": {
            "tags": []
          }
        }
      ]
    },
    {
      "cell_type": "code",
      "metadata": {
        "id": "5qHzkfL3tmHn",
        "colab_type": "code",
        "colab": {}
      },
      "source": [
        "def hypothesis(a,b,x):\n",
        "  return a*x + b\n"
      ],
      "execution_count": 0,
      "outputs": []
    },
    {
      "cell_type": "code",
      "metadata": {
        "id": "wPMre5v21dre",
        "colab_type": "code",
        "colab": {}
      },
      "source": [
        "def error(a,b,x,y):\n",
        "  e=0\n",
        "  m=len(y)\n",
        "  for i in range(m):\n",
        "    e+=np.power((hypothesis(a,b,x[i])-y[i]),2)\n",
        "\n",
        "  return (1/(2*m))*e"
      ],
      "execution_count": 0,
      "outputs": []
    },
    {
      "cell_type": "code",
      "metadata": {
        "id": "7blpzzKL2FYp",
        "colab_type": "code",
        "colab": {}
      },
      "source": [
        "def step_gradient(a,b,x,y,learning_rate):\n",
        " grad_a=0\n",
        " grad_b=0\n",
        " m=len(x)\n",
        " for i in range(m):\n",
        "   grad_a +=1/m * (hypothesis(a,b,x[i]-y[i])*x[i])\n",
        "   grad_b +=1/m * (hypothesis(a,b,x[i]-y[i]))\n",
        " a=a-(grad_a * learning_rate)\n",
        " b=b-(grad_b * learning_rate)\n",
        "\n",
        " return a,b\n",
        "\n",
        "   "
      ],
      "execution_count": 0,
      "outputs": []
    },
    {
      "cell_type": "code",
      "metadata": {
        "id": "0eYP1QHl7zsg",
        "colab_type": "code",
        "colab": {}
      },
      "source": [
        " def descend(initial_a,initial_b,x,y,learning_rate,iterations):\n",
        "    a=initial_a\n",
        "    b=initial_b\n",
        "    for i in range(iterations):\n",
        "       e=error(a,b,x,y)\n",
        "       if i % 1000 == 0:\n",
        "         print(f\"error:{e},a:{a},b:{b}\")\n",
        "       a,b = step_gradient(a,b,x,y,learning_rate)\n",
        "    return a,b\n",
        "\n",
        " "
      ],
      "execution_count": 0,
      "outputs": []
    },
    {
      "cell_type": "code",
      "metadata": {
        "id": "tq172Uk292rB",
        "colab_type": "code",
        "outputId": "f9b8d259-32c5-42fb-caff-4d5c1f43a880",
        "colab": {
          "base_uri": "https://localhost:8080/",
          "height": 195
        }
      },
      "source": [
        "a=0\n",
        "b=1\n",
        "learning_rate=0.001\n",
        "iterations=10000\n",
        "final_a,final_b= descend (a,b,x_train,y_train,learning_rate,iterations)"
      ],
      "execution_count": 0,
      "outputs": [
        {
          "output_type": "stream",
          "text": [
            "error:10709.38297928286,a:50,b:100\n",
            "error:357.5180034174147,a:-11.766739489953812,b:37.6783835917019\n",
            "error:177.33529311069032,a:-25.925437665899363,b:11.390709715005144\n",
            "error:293.3178337701292,a:-23.544885563828906,b:1.3928984795997907\n",
            "error:205.74157378788775,a:-17.186508951802722,b:-1.697579909192312\n",
            "error:105.5500343761169,a:-11.272828935125935,b:-2.137433070810117\n",
            "error:46.600444231062774,a:-6.9139667348338545,b:-1.7408447208789615\n",
            "error:19.26724354811354,a:-4.0390221868929075,b:-1.2099833220558383\n",
            "error:8.002372475786874,a:-2.2690495109037103,b:-0.7707278383116377\n",
            "error:3.600603344462422,a:-1.23206128758915,b:-0.4630906647787922\n"
          ],
          "name": "stdout"
        }
      ]
    },
    {
      "cell_type": "code",
      "metadata": {
        "id": "UeJ5ttKABttf",
        "colab_type": "code",
        "outputId": "a8a38231-1c2e-42eb-f733-1b3e525af91d",
        "colab": {
          "base_uri": "https://localhost:8080/",
          "height": 35
        }
      },
      "source": [
        "print(error(a,b,x_train,y_train))"
      ],
      "execution_count": 0,
      "outputs": [
        {
          "output_type": "stream",
          "text": [
            "10709.38297928286\n"
          ],
          "name": "stdout"
        }
      ]
    },
    {
      "cell_type": "code",
      "metadata": {
        "id": "eGMx_q6nBy5s",
        "colab_type": "code",
        "outputId": "471a7810-0a33-4ee8-f361-59539402b809",
        "colab": {
          "base_uri": "https://localhost:8080/",
          "height": 35
        }
      },
      "source": [
        "print(error(final_a,final_b,x_train,y_train))"
      ],
      "execution_count": 0,
      "outputs": [
        {
          "output_type": "stream",
          "text": [
            "1.8882257391256292\n"
          ],
          "name": "stdout"
        }
      ]
    },
    {
      "cell_type": "code",
      "metadata": {
        "id": "1uhqP2ySB-7t",
        "colab_type": "code",
        "outputId": "b465f7f3-7b04-4247-df72-5a17556b9044",
        "colab": {
          "base_uri": "https://localhost:8080/",
          "height": 283
        }
      },
      "source": [
        "plt.plot(x_train,y_train,'r.')"
      ],
      "execution_count": 0,
      "outputs": [
        {
          "output_type": "execute_result",
          "data": {
            "text/plain": [
              "[<matplotlib.lines.Line2D at 0x7f7cc3897940>]"
            ]
          },
          "metadata": {
            "tags": []
          },
          "execution_count": 82
        },
        {
          "output_type": "display_data",
          "data": {
            "image/png": "[encoded data removed]",
            "text/plain": [
              "<Figure size 432x288 with 1 Axes>"
            ]
          },
          "metadata": {
            "tags": []
          }
        }
      ]
    },
    {
      "cell_type": "code",
      "metadata": {
        "id": "S40jKpwdC2RN",
        "colab_type": "code",
        "outputId": "96b717d1-beac-4cc4-a0e6-d2daeb223873",
        "colab": {
          "base_uri": "https://localhost:8080/",
          "height": 300
        }
      },
      "source": [
        "plt.plot(x_test,y_test,'r.',x_test,hypothesis(final_a,final_b,x_test),'g.')"
      ],
      "execution_count": 0,
      "outputs": [
        {
          "output_type": "execute_result",
          "data": {
            "text/plain": [
              "[<matplotlib.lines.Line2D at 0x7f7cc3807320>,\n",
              " <matplotlib.lines.Line2D at 0x7f7cc3807438>]"
            ]
          },
          "metadata": {
            "tags": []
          },
          "execution_count": 83
        },
        {
          "output_type": "display_data",
          "data": {
            "image/png": "[encoded data removed]",
            "text/plain": [
              "<Figure size 432x288 with 1 Axes>"
            ]
          },
          "metadata": {
            "tags": []
          }
        }
      ]
    }
  ]
}